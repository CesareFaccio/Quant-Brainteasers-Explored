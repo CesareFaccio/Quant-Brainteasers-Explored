{
 "cells": [
  {
   "cell_type": "markdown",
   "id": "ee32d3e2",
   "metadata": {},
   "source": [
    "## PROBLEM :\n",
    "\n",
    "You roll 100 dice, you then remove the sets of {1,2,3,4,5,6}. What is the expected value of the sum of the dice that are leftover?"
   ]
  },
  {
   "cell_type": "markdown",
   "id": "be6ccecd",
   "metadata": {},
   "source": [
    "## BEGIN WITH SIMULATION\n",
    "\n",
    "I will use this to come up with an inital 'guess' that I can use to evaluate further work."
   ]
  },
  {
   "cell_type": "code",
   "execution_count": 2,
   "id": "a615d629",
   "metadata": {},
   "outputs": [],
   "source": [
    "# IMPORTS\n",
    "import random\n",
    "import matplotlib.pyplot as plt\n",
    "from collections import Counter\n",
    "from mpmath import mp, mpf, nstr\n",
    "import itertools\n",
    "from itertools import product\n",
    "mp.dps = 50  # set decimal places for mpmath calculations"
   ]
  },
  {
   "cell_type": "code",
   "execution_count": 3,
   "id": "75270cde",
   "metadata": {},
   "outputs": [
    {
     "data": {
      "image/png": "[encoded data removed]",
      "text/plain": [
       "<Figure size 640x480 with 1 Axes>"
      ]
     },
     "metadata": {},
     "output_type": "display_data"
    }
   ],
   "source": [
    "# I begin by creating a function that genertaes n random integers between 1 and 6\n",
    "# This simulates throwing n dice\n",
    "\n",
    "def generate_ints(n):\n",
    "    numbers = []\n",
    "    for _ in range(n):\n",
    "        number = random.randint(1, 6)\n",
    "        numbers.append(number)\n",
    "    return numbers\n",
    "\n",
    "rolls = generate_ints(10000)\n",
    "\n",
    "plt.hist(rolls, bins=range(1, 8), align='left', rwidth=0.8, edgecolor='black')\n",
    "plt.xlabel(\"Die Face\")\n",
    "plt.ylabel(\"Frequency\")\n",
    "plt.title(\"Histogram of Die Rolls\")\n",
    "plt.xticks(range(1, 7))\n",
    "plt.show()"
   ]
  },
  {
   "cell_type": "code",
   "execution_count": 4,
   "id": "37f1dd74",
   "metadata": {},
   "outputs": [
    {
     "name": "stdout",
     "output_type": "stream",
     "text": [
      "Number of complete sets: 1644\n",
      "Leftover rolls: 136\n"
     ]
    }
   ],
   "source": [
    "# Now I create a function that counts how many complete sets of 1-6 are in the generated throws\n",
    "# It also returms the number of leftover dice after removing the complete sets\n",
    "\n",
    "def count_complete_sets(rolls):\n",
    "    counts = Counter(rolls)\n",
    "    # A complete set is limited by the least frequent die face\n",
    "    num_sets = min(counts[face] for face in range(1, 7))\n",
    "    \n",
    "    # Remove the sets\n",
    "    for face in range(1, 7):\n",
    "        counts[face] -= num_sets\n",
    "    \n",
    "    # Rebuild leftover list\n",
    "    leftovers = []\n",
    "    for face, cnt in counts.items():\n",
    "        leftovers.extend([face] * cnt)\n",
    "    \n",
    "    return num_sets, leftovers\n",
    "\n",
    "num_sets, leftovers = count_complete_sets(generate_ints(10000))\n",
    "print(f\"Number of complete sets: {num_sets}\")\n",
    "print(f\"Leftover rolls: {len(leftovers)}\")"
   ]
  },
  {
   "cell_type": "code",
   "execution_count": 5,
   "id": "9ba2d93f",
   "metadata": {},
   "outputs": [
    {
     "name": "stdout",
     "output_type": "stream",
     "text": [
      "Average leftover rolls: 29.9368\n",
      "Average sum of leftover rolls: 104.82022\n"
     ]
    }
   ],
   "source": [
    "# I can now simulate this multiple times to get an average number of leftover dice\n",
    "# and an average sum of the leftover dice\n",
    "\n",
    "SIM_NUMBER = 50000\n",
    "\n",
    "remaining = []\n",
    "remaining_sum = []\n",
    "for i in range(SIM_NUMBER):\n",
    "    rolls = generate_ints(100)\n",
    "    num_sets, leftovers = count_complete_sets(rolls)\n",
    "    # print(f\"Trial {i+1}: Number of complete sets: {num_sets}, Leftover rolls: {len(leftovers)}\")\n",
    "    remaining.append(len(leftovers))\n",
    "    remaining_sum.append(sum(leftovers))\n",
    "\n",
    "print(f\"Average leftover rolls: {sum(remaining)/len(remaining)}\")\n",
    "print(f\"Average sum of leftover rolls: {sum(remaining_sum)/len(remaining_sum)}\")"
   ]
  },
  {
   "cell_type": "markdown",
   "id": "4d2116c9",
   "metadata": {},
   "source": [
    "This gives an intial answer of ~30 dice left and a sum of ~105. This is also a good thing to see as the expected value of a roll is 3.5 so the expected sum of 30 would be 30*3.5 = 105.\n",
    "\n",
    "I would now like to simulate how many rolls it takes to get a given number of sets. \n",
    "The expected number of rolls to get t sets."
   ]
  },
  {
   "cell_type": "code",
   "execution_count": 6,
   "id": "6a5125f6",
   "metadata": {},
   "outputs": [
    {
     "name": "stdout",
     "output_type": "stream",
     "text": [
      "Number of rolls required for 2 complete sets: 36\n"
     ]
    }
   ],
   "source": [
    "# Here I create a function that simulates rolling a die until we get n complete sets of 1-6\n",
    "\n",
    "def rolls_until_n_sets(n):\n",
    "    counts = Counter()\n",
    "    total_rolls = 0\n",
    "    \n",
    "    while True:\n",
    "        roll = random.randint(1, 6)\n",
    "        counts[roll] += 1\n",
    "        total_rolls += 1\n",
    "        \n",
    "        # Check if we have at least n of each face\n",
    "        if all(counts[face] >= n for face in range(1, 7)):\n",
    "            return total_rolls\n",
    "\n",
    "n = 2\n",
    "trials = rolls_until_n_sets(n)\n",
    "print(f\"Number of rolls required for {n} complete sets:\", trials)"
   ]
  },
  {
   "cell_type": "code",
   "execution_count": 7,
   "id": "27b2a001",
   "metadata": {},
   "outputs": [
    {
     "name": "stdout",
     "output_type": "stream",
     "text": [
      "Average rolls needed for 3 complete sets over 10000 trials: 32.5254\n"
     ]
    }
   ],
   "source": [
    "# Now I can simulate this multiple times to get an average number of rolls needed for n complete sets\n",
    "\n",
    "n = 3\n",
    "\n",
    "def n_sets_simulation(n):\n",
    "    SIM_NUMBER = 10000\n",
    "    counts = []\n",
    "\n",
    "    for i in range(SIM_NUMBER):\n",
    "        trials = rolls_until_n_sets(n)\n",
    "        counts.append(trials)\n",
    "\n",
    "    print(f\"Average rolls needed for {n} complete sets over {SIM_NUMBER} trials: {sum(counts)/len(counts)}\")\n",
    "    return sum(counts)/len(counts)\n",
    "\n",
    "average_rolls = n_sets_simulation(n)"
   ]
  },
  {
   "cell_type": "code",
   "execution_count": null,
   "id": "5b3d480e",
   "metadata": {},
   "outputs": [
    {
     "name": "stdout",
     "output_type": "stream",
     "text": [
      "Average rolls needed for 0 complete sets over 10000 trials: 1.0\n",
      "Average rolls needed for 1 complete sets over 10000 trials: 14.6693\n",
      "Average rolls needed for 2 complete sets over 10000 trials: 24.2019\n",
      "Average rolls needed for 3 complete sets over 10000 trials: 32.7764\n",
      "Average rolls needed for 4 complete sets over 10000 trials: 40.7545\n",
      "Average rolls needed for 5 complete sets over 10000 trials: 48.6182\n",
      "Average rolls needed for 6 complete sets over 10000 trials: 56.3386\n",
      "Average rolls needed for 7 complete sets over 10000 trials: 63.7966\n",
      "Average rolls needed for 8 complete sets over 10000 trials: 71.4167\n",
      "Average rolls needed for 9 complete sets over 10000 trials: 78.4025\n",
      "Average rolls needed for 10 complete sets over 10000 trials: 85.9159\n",
      "Average rolls needed for 11 complete sets over 10000 trials: 93.0604\n",
      "Average rolls needed for 12 complete sets over 10000 trials: 100.3501\n",
      "Average rolls needed for 13 complete sets over 10000 trials: 107.3332\n",
      "Average rolls needed for 14 complete sets over 10000 trials: 114.1514\n",
      "Average rolls needed for 15 complete sets over 10000 trials: 121.2145\n",
      "Average rolls needed for 16 complete sets over 10000 trials: 128.2395\n",
      "Average rolls needed for 17 complete sets over 10000 trials: 135.4041\n"
     ]
    }
   ],
   "source": [
    "number_of_rolls = []\n",
    "n = []\n",
    "for i in range(25):\n",
    "    n.append(i)\n",
    "    number_of_rolls.append(n_sets_simulation(i))\n",
    "\n",
    "plt.plot(n, number_of_rolls, marker='o')\n",
    "plt.xlabel('Number of Complete Sets (n)')\n",
    "plt.ylabel('Expected Rolls Needed')\n",
    "plt.title('Expected Rolls Needed vs Number of Complete Sets')\n",
    "plt.grid()\n",
    "plt.show()\n"
   ]
  },
  {
   "cell_type": "markdown",
   "id": "14971f19",
   "metadata": {},
   "source": [
    "Here we see the behaviour of the expected number of rolls as the number of sets increases. It's also good to see that as n -> inf then the difference between the rolls to get n sets and n + 1 sets tends to 6. This is what I would expect."
   ]
  },
  {
   "cell_type": "markdown",
   "id": "e4fa48f1",
   "metadata": {},
   "source": [
    "## ANALYTICAL SOLUTION\n",
    "\n",
    "To solve the problem analytically I solve for the expected number of sets that will apear when rolling 100 dice, I can then find the expected number of dice left over and multiply by 3.5 to find the total sum.\n",
    "\n",
    "The analytical solution is a bit more challenging, it involes using a multinomial to count all possible ways we can have Ci counts of the ith face. All Cis then need to be constrained to be greater than the number of sets we want and then this can be put into a sum over the possible number of sets to find the expected value of the number of sets.\n",
    "\n",
    "This involves an ordered partitions problem (compositions) which is very inefficient and the code takes a large amount of time to run."
   ]
  },
  {
   "cell_type": "code",
   "execution_count": null,
   "id": "f01092a1",
   "metadata": {},
   "outputs": [
    {
     "name": "stdout",
     "output_type": "stream",
     "text": [
      "t= 1, P(all counts >= t) = 0.97480188640085951013, running E[K] = 0.97480188640085951013\n",
      "t= 2, P(all counts >= t) = 0.82854815461571902532, running E[K] = 1.8033500410165785354\n",
      "t= 3, P(all counts >= t) = 0.47028021836614490442, running E[K] = 2.2736302593827234399\n",
      "t= 4, P(all counts >= t) = 0.096063590778399492819, running E[K] = 2.3696938501611229327\n",
      "t= 5, P(all counts >= t) = 0.00040182327328345282414, running E[K] = 2.3700956734344063855\n",
      "\n",
      "Final results:\n",
      "E[K] = 2.3700956734344063855\n",
      "Expected number of dice removed = 14.220574040606438313\n",
      "Expected number of dice remaining = 15.779425959393561687\n",
      "Expected sum of remaining dice faces = 55.227990857877465904\n"
     ]
    }
   ],
   "source": [
    "def weak_compositions(n, m):\n",
    "    \"\"\"Generate all ordered tuples of length m summing to n (zeros allowed).\"\"\"\n",
    "    if m == 1:\n",
    "        yield (n,)\n",
    "    else:\n",
    "        for i in range(n + 1):\n",
    "            for tail in weak_compositions(n - i, m - 1):\n",
    "                yield (i,) + tail\n",
    "\n",
    "# note that mpf(x) in used to convert integers to mpmath floats\n",
    "# for high precision arithmetic \n",
    "\n",
    "# Parameters\n",
    "n = 30     # number of dice\n",
    "m = 6     # number of faces\n",
    "\n",
    "# Precompute factorials\n",
    "# this creates fact[i] = i!\n",
    "fact = [mpf(1)]\n",
    "for i in range(1, n+1):\n",
    "    fact.append(fact[-1]*i)\n",
    "\n",
    "def multinomial_probability(t):\n",
    "    \"\"\"Compute P(c_i >= t for all i) using stars-and-bars with itertools.combinations.\"\"\"\n",
    "    # here r in the numnber of \"extra\" dice after ensuring each face has at least t copies\n",
    "    # are is the dice left after removal of sets\n",
    "    r = n - m*t\n",
    "    if r < 0:\n",
    "        return mpf(0)\n",
    "    \n",
    "    total = mpf(0)\n",
    "    \n",
    "    for d in weak_compositions(r, m):\n",
    "        c = [di + t for di in d]  # actual counts\n",
    "\n",
    "        # multinomial term: n! / (c1!...cm!) * (1/m)^n\n",
    "        term = fact[n]\n",
    "        for ci in c:\n",
    "            term /= fact[ci]\n",
    "        term *= (mpf(1)/mpf(m))**n\n",
    "        total += term\n",
    "\n",
    "    return total\n",
    "\n",
    "E_K = mpf(0)\n",
    "max_t = n // m\n",
    "for t in range(1, max_t+1):\n",
    "    p = multinomial_probability(t)\n",
    "    E_K += p\n",
    "    print(f\"t={t:2d}, P(all counts >= t) = {nstr(p,20)}, running E[K] = {nstr(E_K,20)}\")\n",
    "\n",
    "# Expected dice removed / remaining\n",
    "removed = m * E_K\n",
    "remaining = n - removed\n",
    "expected_sum_remaining = remaining * mpf((m+1)/2)\n",
    "\n",
    "print(\"\\nFinal results:\")\n",
    "print(\"E[K] =\", nstr(E_K,20))\n",
    "print(\"Expected number of dice removed =\", nstr(removed,20))\n",
    "print(\"Expected number of dice remaining =\", nstr(remaining,20))\n",
    "print(\"Expected sum of remaining dice faces =\", nstr(expected_sum_remaining,20))"
   ]
  },
  {
   "cell_type": "markdown",
   "id": "7e1b7e8e",
   "metadata": {},
   "source": [
    "The above solution can also be adjusted to find the expected number of rolls to get a certain number of sets. The problem is then that this becomes a some to infinity so I can only find an aproximate value by stopping the sum early."
   ]
  },
  {
   "cell_type": "code",
   "execution_count": null,
   "id": "035cba18",
   "metadata": {},
   "outputs": [
    {
     "name": "stdout",
     "output_type": "stream",
     "text": [
      "n=19, P(all counts >= t) = 0.0064180725295908717414, running E[T] = 18.993581927470409128\n",
      "n=20, P(all counts >= t) = 0.017649699456374897289, running E[T] = 19.975932228014034231\n",
      "n=21, P(all counts >= t) = 0.03681477714890319485, running E[T] = 20.939117450865131036\n",
      "n=22, P(all counts >= t) = 0.064654280994706654999, running E[T] = 21.874463169870424381\n",
      "n=23, P(all counts >= t) = 0.10089846995358762897, running E[T] = 22.773564699916836752\n",
      "n=24, P(all counts >= t) = 0.14449497911350172833, running E[T] = 23.629069720803335024\n",
      "n=25, P(all counts >= t) = 0.19390751744087804909, running E[T] = 24.435162203362456975\n",
      "n=26, P(all counts >= t) = 0.2473948274929386115, running E[T] = 25.187767375869518363\n",
      "n=27, P(all counts >= t) = 0.30322738915513118592, running E[T] = 25.884539986714387177\n",
      "n=28, P(all counts >= t) = 0.35983205455667234998, running E[T] = 26.524707932157714827\n",
      "n=29, P(all counts >= t) = 0.41587248373911205089, running E[T] = 27.108835448418602776\n",
      "n=30, P(all counts >= t) = 0.47028021836614490442, running E[T] = 27.638555230052457872\n",
      "n=31, P(all counts >= t) = 0.52225194344505865403, running E[T] = 28.116303286607399218\n",
      "n=32, P(all counts >= t) = 0.57122623009683212281, running E[T] = 28.545077056510567095\n",
      "n=33, P(all counts >= t) = 0.61684984132166625068, running E[T] = 28.928227215188900845\n",
      "n=34, P(all counts >= t) = 0.65894057166838063408, running E[T] = 29.26928664352052021\n",
      "n=35, P(all counts >= t) = 0.69745102399657702577, running E[T] = 29.571835619523943185\n",
      "n=36, P(all counts >= t) = 0.73243580608815611836, running E[T] = 29.839399813435787066\n",
      "n=37, P(all counts >= t) = 0.76402329879601116394, running E[T] = 30.075376514639775902\n",
      "n=38, P(all counts >= t) = 0.79239228855248813481, running E[T] = 30.282984226087287768\n",
      "n=39, P(all counts >= t) = 0.81775324675023473961, running E[T] = 30.465230979337053028\n",
      "n=40, P(all counts >= t) = 0.84033376960249048502, running E[T] = 30.624897209734562543\n",
      "n=41, P(all counts >= t) = 0.86036758086206430811, running E[T] = 30.764529628872498235\n",
      "n=42, P(all counts >= t) = 0.87808648515852563273, running E[T] = 30.886443143713972602\n",
      "n=43, P(all counts >= t) = 0.89371469950013692723, running E[T] = 30.992728444213835675\n",
      "n=44, P(all counts >= t) = 0.90746505691449288728, running E[T] = 31.085263387299342788\n",
      "n=45, P(all counts >= t) = 0.91953665192092722057, running E[T] = 31.165726735378415567\n",
      "n=46, P(all counts >= t) = 0.9301135723679068238, running E[T] = 31.235613163010508743\n",
      "n=47, P(all counts >= t) = 0.93936443070317152839, running E[T] = 31.296248732307337215\n",
      "n=48, P(all counts >= t) = 0.9474424675501836261, running E[T] = 31.348806264757153589\n",
      "n=49, P(all counts >= t) = 0.95448605092649396818, running E[T] = 31.394320213830659621\n",
      "n=50, P(all counts >= t) = 0.96061943595872378248, running E[T] = 31.433700777871935838\n",
      "n=51, P(all counts >= t) = 0.9659536834353503256, running E[T] = 31.467747094436585512\n",
      "n=52, P(all counts >= t) = 0.97058766210175145684, running E[T] = 31.497159432334834056\n",
      "n=53, P(all counts >= t) = 0.97460908036990556179, running E[T] = 31.522550351964928494\n",
      "n=54, P(all counts >= t) = 0.97809550913729103574, running E[T] = 31.544454842827637458\n",
      "n=55, P(all counts >= t) = 0.98111536961216976901, running E[T] = 31.563339473215467689\n",
      "n=56, P(all counts >= t) = 0.98372886921470153587, running E[T] = 31.579610604000766153\n",
      "n=57, P(all counts >= t) = 0.98598887542065516098, running E[T] = 31.593621728580110992\n",
      "n=58, P(all counts >= t) = 0.98794172237088435873, running E[T] = 31.605680006209226633\n",
      "n=59, P(all counts >= t) = 0.98962794861377308446, running E[T] = 31.616052057595453549\n",
      "\n",
      "Final results:\n",
      "E[T] = 31.616052057595453549\n"
     ]
    }
   ],
   "source": [
    "def weak_compositions(n, m):\n",
    "    \"\"\"Generate all ordered tuples of length m summing to n (zeros allowed).\"\"\"\n",
    "    if m == 1:\n",
    "        yield (n,)\n",
    "    else:\n",
    "        for i in range(n + 1):\n",
    "            for tail in weak_compositions(n - i, m - 1):\n",
    "                yield (i,) + tail\n",
    "\n",
    "fact = [mpf(1)]\n",
    "for i in range(1, 1000+1):\n",
    "    fact.append(fact[-1]*i)\n",
    "\n",
    "def multinomial_probability(t,n,m):\n",
    "    \"\"\"Compute P(c_i >= t for all i) using stars-and-bars with itertools.combinations.\"\"\"\n",
    "    # here r in the numnber of \"extra\" dice after ensuring each face has at least t copies\n",
    "    # are is the dice left after removal of sets\n",
    "    r = n - m*t\n",
    "    if r < 0:\n",
    "        return mpf(0)\n",
    "    \n",
    "    total = mpf(0)\n",
    "    \n",
    "    for d in weak_compositions(r, m):\n",
    "        c = [di + t for di in d]  # actual counts\n",
    "\n",
    "        # multinomial term: n! / (c1!...cm!) * (1/m)^n\n",
    "        term = fact[n]\n",
    "        for ci in c:\n",
    "            term /= fact[ci]\n",
    "        term *= (mpf(1)/mpf(m))**n\n",
    "        total += term\n",
    "\n",
    "    return total\n",
    "\n",
    "m = 6\n",
    "t = 3\n",
    "E_T = mpf(m*t)\n",
    "\n",
    "for n in range(m*t+1, 60):\n",
    "    p = multinomial_probability(t,n,m)\n",
    "    E_T += (1 - p)\n",
    "    print(f\"n={n:2d}, P(all counts >= t) = {nstr(p,20)}, running E[T] = {nstr(E_T,20)}\")\n",
    "\n",
    "print(\"\\nFinal results:\")\n",
    "print(\"E[T] =\", nstr(E_T,20))"
   ]
  },
  {
   "cell_type": "markdown",
   "id": "17c0966a",
   "metadata": {},
   "source": [
    "I realise The analytical solutions could probably be rephrased for faster computaion but I prefer to keep them in this form as for me it is easier t understand how they work."
   ]
  },
  {
   "cell_type": "markdown",
   "id": "05ec7dbe",
   "metadata": {},
   "source": []
  }
 ],
 "metadata": {
  "kernelspec": {
   "display_name": "Python (my-cli-env)",
   "language": "python",
   "name": "my-cli-env"
  },
  "language_info": {
   "codemirror_mode": {
    "name": "ipython",
    "version": 3
   },
   "file_extension": ".py",
   "mimetype": "text/x-python",
   "name": "python",
   "nbconvert_exporter": "python",
   "pygments_lexer": "ipython3",
   "version": "3.11.13"
  }
 },
 "nbformat": 4,
 "nbformat_minor": 5
}
